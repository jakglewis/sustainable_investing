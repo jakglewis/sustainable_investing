{
 "cells": [
  {
   "cell_type": "code",
   "execution_count": 1,
   "metadata": {},
   "outputs": [],
   "source": [
    "import pandas as pd\n",
    "import numpy as np\n",
    "from datetime import datetime\n",
    "from datetime import date"
   ]
  },
  {
   "cell_type": "markdown",
   "metadata": {},
   "source": [
    "### 1. Create top500 investor in raw dataset"
   ]
  },
  {
   "cell_type": "code",
   "execution_count": 3,
   "metadata": {},
   "outputs": [],
   "source": [
    "df = pd.read_csv('/Users/User/Python_Jan20/Project_code/sustainable_investments/0.raw_data/cb/investors.csv')\n",
    "df = df.sort_values(by = 'investment_count', ascending = False)\n",
    "df = df.iloc[:500,:]\n",
    "df.to_csv('/Users/User/Python_Jan20/Project_code/sustainable_investments/0.raw_data/cb/investors_500.csv')"
   ]
  },
  {
   "cell_type": "markdown",
   "metadata": {},
   "source": [
    "### 2. Create is_CEO, is_Founder, founder experience features"
   ]
  },
  {
   "cell_type": "code",
   "execution_count": 4,
   "metadata": {},
   "outputs": [],
   "source": [
    "df = pd.read_csv('/Users/User/Python_Jan20/Project_code/sustainable_investments/0.raw_data/cb/jobs.csv', infer_datetime_format = True, parse_dates = [12, 13])\n",
    "\n",
    "is_CEO = []\n",
    "for row in df['title']:\n",
    "    if type(row) == str:\n",
    "        if 'ceo' in row.lower():\n",
    "            is_CEO.append(1)\n",
    "        else: is_CEO.append(0)\n",
    "    else: is_CEO.append(0)\n",
    "df['is_CEO'] = is_CEO\n",
    "\n",
    "is_Founder = []\n",
    "for row in df['title']:\n",
    "    if type(row) == str:\n",
    "        if 'founder' in row.lower():\n",
    "            is_Founder.append(1)\n",
    "        else: is_Founder.append(0)\n",
    "    else: is_Founder.append(0)\n",
    "df['is_Founder'] = is_Founder\n",
    "\n",
    "def date_parser(df):\n",
    "    date_col = ['started_on', 'ended_on']\n",
    "    for col in date_col:\n",
    "        print(col)\n",
    "        df[col] = df[col].apply(lambda x: pd.to_datetime(str(x), yearfirst = True, errors='coerce'))\n",
    "date_parser(df)\n",
    "\n",
    "def months_between(df, col1, col2):\n",
    "    today = date.today()\n",
    "    today = datetime.combine(today.today(), datetime.min.time()) # today is todays date as datetime object..     \n",
    "    months_between_col = []\n",
    "    \n",
    "    for d1, d2 in zip(col1, col2):\n",
    "        if d1 and pd.isnull(d2):  \n",
    "            d2 = today\n",
    "            months = round((abs((d2 - d1).days)/30), 1)\n",
    "            months_between_col.append(months)\n",
    "        elif d1 and d2:\n",
    "            months = round((abs((d2 - d1).days)/30), 1)\n",
    "            months_between_col.append(months)\n",
    "        else: pass\n",
    "    df['months_between_col'] = months_between_col\n",
    "months_between(df, df['started_on'], df['ended_on'])\n",
    "\n",
    "df['months_between_col'].fillna('', inplace=True)\n",
    "df['started_on'].fillna('', inplace=True)\n",
    "df['ended_on'].fillna('', inplace=True)\n",
    "\n",
    "df.to_csv('/Users/User/Python_Jan20/Project_code/sustainable_investments/0.raw_data/cb/jobs_modified.csv')"
   ]
  }
 ],
 "metadata": {
  "kernelspec": {
   "display_name": "Python 3",
   "language": "python",
   "name": "python3"
  },
  "language_info": {
   "codemirror_mode": {
    "name": "ipython",
    "version": 3
   },
   "file_extension": ".py",
   "mimetype": "text/x-python",
   "name": "python",
   "nbconvert_exporter": "python",
   "pygments_lexer": "ipython3",
   "version": "3.7.4"
  }
 },
 "nbformat": 4,
 "nbformat_minor": 4
}
